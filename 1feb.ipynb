{
 "cells": [
  {
   "cell_type": "code",
   "execution_count": 1,
   "id": "e0d76069-f685-4715-bcc3-6900b231784b",
   "metadata": {},
   "outputs": [],
   "source": [
    "# dictionat function , use to store data in easiest possible way\n",
    "d = {}"
   ]
  },
  {
   "cell_type": "code",
   "execution_count": 2,
   "id": "32b4b8a0-adc2-419e-8369-7837f5a883c9",
   "metadata": {},
   "outputs": [
    {
     "data": {
      "text/plain": [
       "dict"
      ]
     },
     "execution_count": 2,
     "metadata": {},
     "output_type": "execute_result"
    }
   ],
   "source": [
    "type(d)"
   ]
  },
  {
   "cell_type": "code",
   "execution_count": 3,
   "id": "33615747-0746-4163-a2ed-4919a3c976a5",
   "metadata": {},
   "outputs": [],
   "source": [
    "d1 = {'key' : \"danish\"}"
   ]
  },
  {
   "cell_type": "code",
   "execution_count": 4,
   "id": "2fbe45b7-5756-4172-8f26-de7623dee3cc",
   "metadata": {},
   "outputs": [
    {
     "data": {
      "text/plain": [
       "{'key': 'danish'}"
      ]
     },
     "execution_count": 4,
     "metadata": {},
     "output_type": "execute_result"
    }
   ],
   "source": [
    "d1"
   ]
  },
  {
   "cell_type": "code",
   "execution_count": 5,
   "id": "a50b6381-4602-4943-8646-6d916c738c19",
   "metadata": {},
   "outputs": [
    {
     "ename": "SyntaxError",
     "evalue": "':' expected after dictionary key (588300839.py, line 1)",
     "output_type": "error",
     "traceback": [
      "\u001b[0;36m  Cell \u001b[0;32mIn[5], line 1\u001b[0;36m\u001b[0m\n\u001b[0;31m    d2 = {'name' : \"sudhanshu\" , \"email\"}\u001b[0m\n\u001b[0m                                       ^\u001b[0m\n\u001b[0;31mSyntaxError\u001b[0m\u001b[0;31m:\u001b[0m ':' expected after dictionary key\n"
     ]
    }
   ],
   "source": [
    "d2 = {'name' : \"sudhanshu\" , \"email\"}"
   ]
  },
  {
   "cell_type": "code",
   "execution_count": 6,
   "id": "199191f0-ccfc-47bf-9c8f-bf86843f0604",
   "metadata": {},
   "outputs": [],
   "source": [
    "d3 = {234 : \"dan\"}"
   ]
  },
  {
   "cell_type": "code",
   "execution_count": 7,
   "id": "072f7d54-2582-4762-acf2-45a241f33d6a",
   "metadata": {},
   "outputs": [
    {
     "data": {
      "text/plain": [
       "{234: 'dan'}"
      ]
     },
     "execution_count": 7,
     "metadata": {},
     "output_type": "execute_result"
    }
   ],
   "source": [
    "d3"
   ]
  },
  {
   "cell_type": "code",
   "execution_count": 8,
   "id": "6114b73d-f3df-4350-8596-9490a250c060",
   "metadata": {},
   "outputs": [],
   "source": [
    "d5 = {\"company\" : \"pw skills\" , \"course\" :[\"dd\" , \"cd\"]}"
   ]
  },
  {
   "cell_type": "code",
   "execution_count": 9,
   "id": "f1c58811-7dab-42da-ae61-6fb69c264c02",
   "metadata": {},
   "outputs": [
    {
     "data": {
      "text/plain": [
       "{'company': 'pw skills', 'course': ['dd', 'cd']}"
      ]
     },
     "execution_count": 9,
     "metadata": {},
     "output_type": "execute_result"
    }
   ],
   "source": [
    "d5"
   ]
  },
  {
   "cell_type": "code",
   "execution_count": 10,
   "id": "46bb3453-cdb6-4569-b77b-82413c7ad0a7",
   "metadata": {},
   "outputs": [
    {
     "data": {
      "text/plain": [
       "['dd', 'cd']"
      ]
     },
     "execution_count": 10,
     "metadata": {},
     "output_type": "execute_result"
    }
   ],
   "source": [
    "d5['course']"
   ]
  },
  {
   "cell_type": "code",
   "execution_count": 12,
   "id": "12417e41-7358-4ce7-9552-30a5d494e7f2",
   "metadata": {},
   "outputs": [
    {
     "data": {
      "text/plain": [
       "'cd'"
      ]
     },
     "execution_count": 12,
     "metadata": {},
     "output_type": "execute_result"
    }
   ],
   "source": [
    "d5['course'][1]"
   ]
  },
  {
   "cell_type": "code",
   "execution_count": 13,
   "id": "4566d173-5546-4713-b107-4faab5df664f",
   "metadata": {},
   "outputs": [],
   "source": [
    "d6 = {\"number\" : [2,2,3,4,4] , \"assign\" :(2,3,4,5) , \"launch\" : (3,4,5,)}"
   ]
  },
  {
   "cell_type": "code",
   "execution_count": 14,
   "id": "37042f1a-1e73-4d3a-9ea1-280b5ad2d06a",
   "metadata": {},
   "outputs": [
    {
     "data": {
      "text/plain": [
       "{'number': [2, 2, 3, 4, 4], 'assign': (2, 3, 4, 5), 'launch': (3, 4, 5)}"
      ]
     },
     "execution_count": 14,
     "metadata": {},
     "output_type": "execute_result"
    }
   ],
   "source": [
    "d6"
   ]
  },
  {
   "cell_type": "code",
   "execution_count": 15,
   "id": "d2ddcc10-76bc-49a4-8aa2-50a081203373",
   "metadata": {},
   "outputs": [],
   "source": [
    "#lis tupple string integer hum sab ek sath sab rakh skte hai"
   ]
  },
  {
   "cell_type": "code",
   "execution_count": 17,
   "id": "9a917893-a488-414e-8b36-d0dafa353a72",
   "metadata": {},
   "outputs": [
    {
     "data": {
      "text/plain": [
       "(3, 4, 5)"
      ]
     },
     "execution_count": 17,
     "metadata": {},
     "output_type": "execute_result"
    }
   ],
   "source": [
    "d6['launch']"
   ]
  },
  {
   "cell_type": "code",
   "execution_count": 20,
   "id": "073b1642-b472-4006-af89-dc3e9ba85389",
   "metadata": {},
   "outputs": [],
   "source": [
    "d6['mentor'] = [\"sid\",\"krish\",\"dhoni\"]"
   ]
  },
  {
   "cell_type": "code",
   "execution_count": 21,
   "id": "43627698-0aba-471e-8737-ba6ca47195e3",
   "metadata": {},
   "outputs": [
    {
     "data": {
      "text/plain": [
       "{'number': [2, 2, 3, 4, 4],\n",
       " 'assign': (2, 3, 4, 5),\n",
       " 'launch': (3, 4, 5),\n",
       " 'mentor': ['sid', 'krish', 'dhoni']}"
      ]
     },
     "execution_count": 21,
     "metadata": {},
     "output_type": "execute_result"
    }
   ],
   "source": [
    "d6"
   ]
  },
  {
   "cell_type": "code",
   "execution_count": 22,
   "id": "c47526ab-9bd1-4a6b-a434-4f8cc0e707c0",
   "metadata": {},
   "outputs": [],
   "source": [
    "del d6['number']"
   ]
  },
  {
   "cell_type": "code",
   "execution_count": 23,
   "id": "3530adb3-9d12-4a6f-bb11-f08677a1311f",
   "metadata": {},
   "outputs": [
    {
     "data": {
      "text/plain": [
       "{'assign': (2, 3, 4, 5),\n",
       " 'launch': (3, 4, 5),\n",
       " 'mentor': ['sid', 'krish', 'dhoni']}"
      ]
     },
     "execution_count": 23,
     "metadata": {},
     "output_type": "execute_result"
    }
   ],
   "source": [
    "d6"
   ]
  },
  {
   "cell_type": "code",
   "execution_count": 25,
   "id": "aa10b77d-8b3c-444e-bd3c-76b828a09c95",
   "metadata": {},
   "outputs": [
    {
     "data": {
      "text/plain": [
       "['assign', 'launch', 'mentor']"
      ]
     },
     "execution_count": 25,
     "metadata": {},
     "output_type": "execute_result"
    }
   ],
   "source": [
    "list(d6.keys())"
   ]
  },
  {
   "cell_type": "code",
   "execution_count": 26,
   "id": "e1fe6936-8999-44ad-9cc8-273a4cc69ddc",
   "metadata": {},
   "outputs": [
    {
     "data": {
      "text/plain": [
       "dict_items([('assign', (2, 3, 4, 5)), ('launch', (3, 4, 5)), ('mentor', ['sid', 'krish', 'dhoni'])])"
      ]
     },
     "execution_count": 26,
     "metadata": {},
     "output_type": "execute_result"
    }
   ],
   "source": [
    "d6.items()"
   ]
  },
  {
   "cell_type": "code",
   "execution_count": 27,
   "id": "e61466b5-6687-44ee-8f00-d4240cb831a0",
   "metadata": {},
   "outputs": [
    {
     "data": {
      "text/plain": [
       "(2, 3, 4, 5)"
      ]
     },
     "execution_count": 27,
     "metadata": {},
     "output_type": "execute_result"
    }
   ],
   "source": [
    "d6.pop('assign')"
   ]
  },
  {
   "cell_type": "code",
   "execution_count": null,
   "id": "239dae05-6039-4ba6-a7a5-632b0993540b",
   "metadata": {},
   "outputs": [],
   "source": [
    "l = [1,2,3,4,5,6,7,8,9]"
   ]
  },
  {
   "cell_type": "code",
   "execution_count": null,
   "id": "9a2386ad-d601-4e62-b518-7f2edab50b28",
   "metadata": {},
   "outputs": [],
   "source": [
    "l[0]"
   ]
  },
  {
   "cell_type": "code",
   "execution_count": null,
   "id": "4e5aac1e-625f-47ca-ac8d-e6074334714e",
   "metadata": {},
   "outputs": [],
   "source": []
  }
 ],
 "metadata": {
  "kernelspec": {
   "display_name": "Python 3 (ipykernel)",
   "language": "python",
   "name": "python3"
  },
  "language_info": {
   "codemirror_mode": {
    "name": "ipython",
    "version": 3
   },
   "file_extension": ".py",
   "mimetype": "text/x-python",
   "name": "python",
   "nbconvert_exporter": "python",
   "pygments_lexer": "ipython3",
   "version": "3.10.8"
  }
 },
 "nbformat": 4,
 "nbformat_minor": 5
}
