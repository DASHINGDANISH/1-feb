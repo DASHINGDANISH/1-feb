{
 "cells": [
  {
   "cell_type": "code",
   "execution_count": 2,
   "id": "951340c9-37b1-4e36-a0fe-f5c706db3066",
   "metadata": {},
   "outputs": [],
   "source": [
    "l=[1,2,3,4,5,6,7,8] # how u will add 1 to each element in list"
   ]
  },
  {
   "cell_type": "code",
   "execution_count": 6,
   "id": "6e3e5fdd-d83e-43a9-abb8-f8d1e1439a59",
   "metadata": {},
   "outputs": [
    {
     "data": {
      "text/plain": [
       "2"
      ]
     },
     "execution_count": 6,
     "metadata": {},
     "output_type": "execute_result"
    }
   ],
   "source": [
    "l[0]+1 # very lenthy solution is looop"
   ]
  },
  {
   "cell_type": "code",
   "execution_count": 7,
   "id": "996a39ff-f411-493d-bc4d-9eb61eb2a2c1",
   "metadata": {},
   "outputs": [],
   "source": [
    "l=[1,2,3,4,5,6,7,8]"
   ]
  },
  {
   "cell_type": "code",
   "execution_count": 11,
   "id": "feb00f67-3cd6-40e3-aed5-ab7cd60859c9",
   "metadata": {},
   "outputs": [
    {
     "name": "stdout",
     "output_type": "stream",
     "text": [
      "1\n",
      "2\n",
      "3\n",
      "4\n",
      "5\n",
      "6\n",
      "7\n",
      "8\n"
     ]
    }
   ],
   "source": [
    "for i in l : # i jayega l kai under and keep out value of element 1 then itbwill print i=1 \n",
    "    #then this loop out all elements till last\n",
    "    \n",
    "    print(i)"
   ]
  },
  {
   "cell_type": "code",
   "execution_count": 13,
   "id": "f16a2b10-6aa8-4010-b514-f736ddb53200",
   "metadata": {},
   "outputs": [
    {
     "name": "stdout",
     "output_type": "stream",
     "text": [
      "2\n",
      "3\n",
      "4\n",
      "5\n",
      "6\n",
      "7\n",
      "8\n",
      "9\n"
     ]
    }
   ],
   "source": [
    "for i in l:\n",
    "    print(i+1) ##solution for first question"
   ]
  },
  {
   "cell_type": "code",
   "execution_count": 14,
   "id": "3feb5af7-7d1b-4ad3-a8db-c72763b43ffb",
   "metadata": {},
   "outputs": [],
   "source": [
    "l1=[\"dan\",\"tan\",\"man\"]"
   ]
  },
  {
   "cell_type": "code",
   "execution_count": 16,
   "id": "135e0d4f-6fee-49a8-86f0-0b4b376ab527",
   "metadata": {},
   "outputs": [],
   "source": [
    "l1=[]\n",
    "for i in l1:\n",
    "    print(i)\n",
    "    l1.append(i.upper())"
   ]
  },
  {
   "cell_type": "code",
   "execution_count": 17,
   "id": "4507e1c5-fe69-4f49-b756-ecdbb6d7a8c5",
   "metadata": {},
   "outputs": [
    {
     "data": {
      "text/plain": [
       "[]"
      ]
     },
     "execution_count": 17,
     "metadata": {},
     "output_type": "execute_result"
    }
   ],
   "source": [
    "l1"
   ]
  },
  {
   "cell_type": "code",
   "execution_count": 18,
   "id": "87bcdfd8-8e71-4084-b811-35addd2e343b",
   "metadata": {},
   "outputs": [],
   "source": [
    "l3=[1,2,3,4,5,\"danish\",\"anish\",324,567,434] ## make seprate list for string and integer"
   ]
  },
  {
   "cell_type": "code",
   "execution_count": 19,
   "id": "686ceae7-7dae-43f6-a16b-fbaaecc67251",
   "metadata": {},
   "outputs": [
    {
     "ename": "SyntaxError",
     "evalue": "invalid syntax (3036056546.py, line 6)",
     "output_type": "error",
     "traceback": [
      "\u001b[0;36m  Cell \u001b[0;32mIn[19], line 6\u001b[0;36m\u001b[0m\n\u001b[0;31m    else :\u001b[0m\n\u001b[0m    ^\u001b[0m\n\u001b[0;31mSyntaxError\u001b[0m\u001b[0;31m:\u001b[0m invalid syntax\n"
     ]
    }
   ],
   "source": [
    "l4_num=[]\n",
    "l5_str=[]\n",
    "for i in l :\n",
    "    if type(i)== int or type(i)==float :\n",
    "        l4_num.append(i)\n",
    "        else :\n",
    "            l5_str.append(i)\n",
    "    "
   ]
  },
  {
   "cell_type": "code",
   "execution_count": 20,
   "id": "86c13a5d-ac97-41e2-97a1-4032e20accbb",
   "metadata": {},
   "outputs": [
    {
     "ename": "NameError",
     "evalue": "name 'l4_num' is not defined",
     "output_type": "error",
     "traceback": [
      "\u001b[0;31m---------------------------------------------------------------------------\u001b[0m",
      "\u001b[0;31mNameError\u001b[0m                                 Traceback (most recent call last)",
      "Cell \u001b[0;32mIn[20], line 1\u001b[0m\n\u001b[0;32m----> 1\u001b[0m \u001b[43ml4_num\u001b[49m\n",
      "\u001b[0;31mNameError\u001b[0m: name 'l4_num' is not defined"
     ]
    }
   ],
   "source": [
    "l4_num"
   ]
  },
  {
   "cell_type": "code",
   "execution_count": null,
   "id": "aa539633-2d93-467e-887a-9c3522e66b74",
   "metadata": {},
   "outputs": [],
   "source": []
  }
 ],
 "metadata": {
  "kernelspec": {
   "display_name": "Python 3 (ipykernel)",
   "language": "python",
   "name": "python3"
  },
  "language_info": {
   "codemirror_mode": {
    "name": "ipython",
    "version": 3
   },
   "file_extension": ".py",
   "mimetype": "text/x-python",
   "name": "python",
   "nbconvert_exporter": "python",
   "pygments_lexer": "ipython3",
   "version": "3.10.8"
  }
 },
 "nbformat": 4,
 "nbformat_minor": 5
}
